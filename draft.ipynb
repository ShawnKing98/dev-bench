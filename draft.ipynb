{
 "cells": [
  {
   "cell_type": "code",
   "execution_count": 2,
   "metadata": {},
   "outputs": [
    {
     "name": "stdout",
     "output_type": "stream",
     "text": [
      "TROG shape: (76, 4, 1)\n",
      "Winoground shape: (171, 2, 2)\n",
      "LWL shape: (76, 2, 1)\n",
      "VV shape: (119, 4, 1)\n",
      "THINGS shape: (1854, 512)\n",
      "VOC shape: (72, 512)\n",
      "WAT shape: (1413, 512)\n"
     ]
    }
   ],
   "source": [
    "import numpy as np\n",
    "\n",
    "# model = 'clip_large'\n",
    "gram_trog_result = np.load('/projectnb/ivc-ml/wsashawn/dev-bench/evals/gram-trog/trog_cvcl.npy')\n",
    "gram_winoground_result = np.load('/projectnb/ivc-ml/wsashawn/dev-bench/evals/gram-winoground/wg_cvcl.npy')\n",
    "lex_lwl_result = np.load('/projectnb/ivc-ml/wsashawn/dev-bench/evals/lex-lwl/lwl_cvcl.npy')\n",
    "lex_vv_result = np.load('/projectnb/ivc-ml/wsashawn/dev-bench/evals/lex-viz_vocab/vv_cvcl.npy')\n",
    "sem_things_result = np.load('/projectnb/ivc-ml/wsashawn/dev-bench/evals/sem-things/things_cvcl.npy')\n",
    "sem_voc_result = np.load('/projectnb/ivc-ml/wsashawn/dev-bench/evals/sem-viz_obj_cat/voc_cvcl.npy')\n",
    "sem_wat_result = np.load('/projectnb/ivc-ml/wsashawn/dev-bench/evals/sem-wat/wat_cvcl.npy')\n",
    "print(f\"TROG shape: {gram_trog_result.shape}\")\n",
    "print(f\"Winoground shape: {gram_winoground_result.shape}\")\n",
    "print(f\"LWL shape: {lex_lwl_result.shape}\")\n",
    "print(f\"VV shape: {lex_vv_result.shape}\")\n",
    "print(f\"THINGS shape: {sem_things_result.shape}\")\n",
    "print(f\"VOC shape: {sem_voc_result.shape}\")\n",
    "print(f\"WAT shape: {sem_wat_result.shape}\")\n"
   ]
  },
  {
   "cell_type": "markdown",
   "metadata": {},
   "source": [
    "New"
   ]
  },
  {
   "cell_type": "code",
   "execution_count": 12,
   "metadata": {},
   "outputs": [
    {
     "name": "stdout",
     "output_type": "stream",
     "text": [
      "TROG shape: (78, 4, 1)\n",
      "Winoground shape: (171, 2, 2)\n",
      "LWL shape: (76, 2, 1)\n",
      "VV shape: (119, 4, 1)\n",
      "THINGS shape: (1854, 512)\n",
      "VOC shape: (72, 512)\n",
      "WAT shape: (1413, 512)\n"
     ]
    }
   ],
   "source": [
    "import numpy as np\n",
    "\n",
    "# model = 'clip_large'\n",
    "gram_trog_result = np.load('/projectnb/ivc-ml/wsashawn/dev-bench/evals/gram-trog/trog_cvcl.npy')\n",
    "gram_winoground_result = np.load('/projectnb/ivc-ml/wsashawn/dev-bench/evals/gram-winoground/wg_cvcl.npy')\n",
    "lex_lwl_result = np.load('/projectnb/ivc-ml/wsashawn/dev-bench/evals/lex-lwl/lwl_cvcl.npy')\n",
    "lex_vv_result = np.load('/projectnb/ivc-ml/wsashawn/dev-bench/evals/lex-viz_vocab/vv_cvcl.npy')\n",
    "sem_things_result = np.load('/projectnb/ivc-ml/wsashawn/dev-bench/evals/sem-things/things_cvcl.npy')\n",
    "sem_voc_result = np.load('/projectnb/ivc-ml/wsashawn/dev-bench/evals/sem-viz_obj_cat/voc_cvcl.npy')\n",
    "sem_wat_result = np.load('/projectnb/ivc-ml/wsashawn/dev-bench/evals/sem-wat/wat_cvcl.npy')\n",
    "print(f\"TROG shape: {gram_trog_result.shape}\")\n",
    "print(f\"Winoground shape: {gram_winoground_result.shape}\")\n",
    "print(f\"LWL shape: {lex_lwl_result.shape}\")\n",
    "print(f\"VV shape: {lex_vv_result.shape}\")\n",
    "print(f\"THINGS shape: {sem_things_result.shape}\")\n",
    "print(f\"VOC shape: {sem_voc_result.shape}\")\n",
    "print(f\"WAT shape: {sem_wat_result.shape}\")\n"
   ]
  },
  {
   "cell_type": "code",
   "execution_count": 14,
   "metadata": {},
   "outputs": [
    {
     "name": "stdout",
     "output_type": "stream",
     "text": [
      "(1854, 1854)\n",
      "[0.08729439 1.         0.72485954 ... 0.19325371 0.49853855 0.15097332]\n"
     ]
    }
   ],
   "source": [
    "from scipy.io import loadmat\n",
    "\n",
    "spose_similarity = loadmat('/projectnb/ivc-ml/wsashawn/dev-bench/evals/sem-things/spose_similarity.mat')\n",
    "print(spose_similarity['spose_sim'].shape)\n",
    "print(spose_similarity['spose_sim'][1])"
   ]
  },
  {
   "cell_type": "code",
   "execution_count": 17,
   "metadata": {},
   "outputs": [
    {
     "ename": "LibrdataError",
     "evalue": "Invalid file, or file has unsupported features",
     "output_type": "error",
     "traceback": [
      "\u001b[0;31m---------------------------------------------------------------------------\u001b[0m",
      "\u001b[0;31mLibrdataError\u001b[0m                             Traceback (most recent call last)",
      "Cell \u001b[0;32mIn[17], line 3\u001b[0m\n\u001b[1;32m      1\u001b[0m \u001b[38;5;28;01mimport\u001b[39;00m \u001b[38;5;21;01mpyreadr\u001b[39;00m\n\u001b[0;32m----> 3\u001b[0m result \u001b[38;5;241m=\u001b[39m \u001b[43mpyreadr\u001b[49m\u001b[38;5;241;43m.\u001b[39;49m\u001b[43mread_r\u001b[49m\u001b[43m(\u001b[49m\u001b[38;5;124;43m'\u001b[39;49m\u001b[38;5;124;43m/projectnb/ivc-ml/wsashawn/dev-bench/evals/sem-viz_obj_cat/human.rds\u001b[39;49m\u001b[38;5;124;43m'\u001b[39;49m\u001b[43m)\u001b[49m\n\u001b[1;32m      4\u001b[0m human_data \u001b[38;5;241m=\u001b[39m result[\u001b[38;5;28;01mNone\u001b[39;00m]  \u001b[38;5;66;03m# extract the dataframe\u001b[39;00m\n\u001b[1;32m      5\u001b[0m \u001b[38;5;28mprint\u001b[39m(human_data\u001b[38;5;241m.\u001b[39mhead())\n",
      "File \u001b[0;32m/projectnb/ivc-ml/wsashawn/miniconda3/envs/llava/lib/python3.10/site-packages/pyreadr/pyreadr.py:66\u001b[0m, in \u001b[0;36mread_r\u001b[0;34m(path, use_objects, timezone)\u001b[0m\n\u001b[1;32m     64\u001b[0m \u001b[38;5;28;01mif\u001b[39;00m \u001b[38;5;129;01mnot\u001b[39;00m os\u001b[38;5;241m.\u001b[39mpath\u001b[38;5;241m.\u001b[39misfile(filename_bytes):\n\u001b[1;32m     65\u001b[0m     \u001b[38;5;28;01mraise\u001b[39;00m PyreadrError(\u001b[38;5;124m\"\u001b[39m\u001b[38;5;124mFile \u001b[39m\u001b[38;5;132;01m{0}\u001b[39;00m\u001b[38;5;124m does not exist!\u001b[39m\u001b[38;5;124m\"\u001b[39m\u001b[38;5;241m.\u001b[39mformat(filename_bytes))\n\u001b[0;32m---> 66\u001b[0m \u001b[43mparser\u001b[49m\u001b[38;5;241;43m.\u001b[39;49m\u001b[43mparse\u001b[49m\u001b[43m(\u001b[49m\u001b[43mfilename_bytes\u001b[49m\u001b[43m)\u001b[49m\n\u001b[1;32m     68\u001b[0m result \u001b[38;5;241m=\u001b[39m OrderedDict()\n\u001b[1;32m     69\u001b[0m \u001b[38;5;28;01mfor\u001b[39;00m table_index, table \u001b[38;5;129;01min\u001b[39;00m \u001b[38;5;28menumerate\u001b[39m(parser\u001b[38;5;241m.\u001b[39mtable_data):\n",
      "File \u001b[0;32m/projectnb/ivc-ml/wsashawn/miniconda3/envs/llava/lib/python3.10/site-packages/pyreadr/librdata.pyx:149\u001b[0m, in \u001b[0;36mpyreadr.librdata.Parser.parse\u001b[0;34m()\u001b[0m\n",
      "File \u001b[0;32m/projectnb/ivc-ml/wsashawn/miniconda3/envs/llava/lib/python3.10/site-packages/pyreadr/librdata.pyx:178\u001b[0m, in \u001b[0;36mpyreadr.librdata.Parser.parse\u001b[0;34m()\u001b[0m\n",
      "\u001b[0;31mLibrdataError\u001b[0m: Invalid file, or file has unsupported features"
     ]
    }
   ],
   "source": [
    "import pyreadr\n",
    "\n",
    "result = pyreadr.read_r('/projectnb/ivc-ml/wsashawn/dev-bench/evals/sem-viz_obj_cat/human.rds')\n",
    "human_data = result[None]  # extract the dataframe\n",
    "print(human_data.head())"
   ]
  }
 ],
 "metadata": {
  "kernelspec": {
   "display_name": "llava",
   "language": "python",
   "name": "python3"
  },
  "language_info": {
   "codemirror_mode": {
    "name": "ipython",
    "version": 3
   },
   "file_extension": ".py",
   "mimetype": "text/x-python",
   "name": "python",
   "nbconvert_exporter": "python",
   "pygments_lexer": "ipython3",
   "version": "3.10.14"
  }
 },
 "nbformat": 4,
 "nbformat_minor": 2
}
