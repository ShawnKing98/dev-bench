{
 "cells": [
  {
   "cell_type": "code",
   "execution_count": 1,
   "metadata": {},
   "outputs": [],
   "source": [
    "%load_ext autoreload\n",
    "%autoreload 2"
   ]
  },
  {
   "cell_type": "code",
   "execution_count": 22,
   "metadata": {},
   "outputs": [],
   "source": [
    "import os\n",
    "import re\n",
    "import pandas as pd\n",
    "import numpy as np\n",
    "\n",
    "from torch.utils.data import DataLoader\n",
    "\n",
    "import data_handling\n",
    "import extract_values"
   ]
  },
  {
   "cell_type": "code",
   "execution_count": 20,
   "metadata": {},
   "outputs": [],
   "source": [
    "from transformers import CLIPProcessor, CLIPModel\n",
    "model = CLIPModel.from_pretrained(\"openai/clip-vit-base-patch32\")\n",
    "processor = CLIPProcessor.from_pretrained(\"openai/clip-vit-base-patch32\")"
   ]
  },
  {
   "cell_type": "code",
   "execution_count": 3,
   "metadata": {},
   "outputs": [],
   "source": [
    "lwl_ds = data_handling.make_dataset(\"assets/lex-lwl/\", trial_type=2)\n",
    "lwl_dl = data_handling.make_dataloader(lwl_ds)"
   ]
  },
  {
   "cell_type": "code",
   "execution_count": 26,
   "metadata": {},
   "outputs": [],
   "source": [
    "lwl_sims = extract_values.get_all_sim_scores(lwl_dl, processor, lambda **x: model(**x).logits_per_image)"
   ]
  },
  {
   "cell_type": "code",
   "execution_count": 33,
   "metadata": {},
   "outputs": [],
   "source": [
    "trog_ds = data_handling.make_dataset(\"assets/gram-trog/\", trial_type=4)\n",
    "trog_dl = data_handling.make_dataloader(trog_ds)"
   ]
  },
  {
   "cell_type": "code",
   "execution_count": 36,
   "metadata": {},
   "outputs": [],
   "source": [
    "trog_sims = extract_values.get_all_sim_scores(trog_dl, processor, lambda **x: model(**x).logits_per_image)"
   ]
  },
  {
   "cell_type": "code",
   "execution_count": 41,
   "metadata": {},
   "outputs": [],
   "source": [
    "voc_ds = data_handling.make_dataset(\"assets/sem-viz_obj_cat/\", trial_type=1)\n",
    "voc_dl = data_handling.make_dataloader(voc_ds)"
   ]
  },
  {
   "cell_type": "code",
   "execution_count": 42,
   "metadata": {},
   "outputs": [],
   "source": [
    "voc_embeds = extract_values.get_all_image_feats(voc_dl, processor, model.get_image_features)"
   ]
  },
  {
   "cell_type": "code",
   "execution_count": 43,
   "metadata": {},
   "outputs": [],
   "source": [
    "men_ds = data_handling.make_dataset(\"assets/sem-men/\", trial_type=0)\n",
    "men_dl = data_handling.make_dataloader(men_ds)"
   ]
  },
  {
   "cell_type": "code",
   "execution_count": 44,
   "metadata": {},
   "outputs": [],
   "source": [
    "men_embeds = extract_values.get_all_text_feats(men_dl, processor, model.get_text_features)"
   ]
  }
 ],
 "metadata": {
  "kernelspec": {
   "display_name": "cs330hw0",
   "language": "python",
   "name": "python3"
  },
  "language_info": {
   "codemirror_mode": {
    "name": "ipython",
    "version": 3
   },
   "file_extension": ".py",
   "mimetype": "text/x-python",
   "name": "python",
   "nbconvert_exporter": "python",
   "pygments_lexer": "ipython3",
   "version": "3.10.6"
  }
 },
 "nbformat": 4,
 "nbformat_minor": 2
}
