{
 "cells": [
  {
   "cell_type": "code",
   "execution_count": 2,
   "metadata": {},
   "outputs": [],
   "source": [
    "import os\n",
    "import numpy as np\n",
    "import pandas as pd\n",
    "from PIL import Image\n",
    "\n",
    "from sklearn.metrics.pairwise import cosine_similarity\n",
    "from transformers import CLIPProcessor, CLIPModel"
   ]
  },
  {
   "cell_type": "code",
   "execution_count": 3,
   "metadata": {},
   "outputs": [],
   "source": [
    "model = CLIPModel.from_pretrained(\"openai/clip-vit-base-patch32\")\n",
    "processor = CLIPProcessor.from_pretrained(\"openai/clip-vit-base-patch32\")"
   ]
  },
  {
   "cell_type": "code",
   "execution_count": 17,
   "metadata": {},
   "outputs": [],
   "source": [
    "image_files = [\"assets/sem-viz_obj_cat/images/\" + f for f in sorted(os.listdir(\"assets/sem-viz_obj_cat/images/\"))]"
   ]
  },
  {
   "cell_type": "code",
   "execution_count": 22,
   "metadata": {},
   "outputs": [],
   "source": [
    "def get_image_feats(image_files, processor, model):\n",
    "    images = [Image.open(f) for f in image_files]\n",
    "    inputs = processor(images=images, return_tensors=\"pt\")\n",
    "    feats = model.get_image_features(**inputs).detach().numpy()\n",
    "    return feats"
   ]
  },
  {
   "cell_type": "code",
   "execution_count": 23,
   "metadata": {},
   "outputs": [],
   "source": [
    "feats = get_image_feats(image_files, processor, model)"
   ]
  },
  {
   "cell_type": "code",
   "execution_count": 24,
   "metadata": {},
   "outputs": [],
   "source": [
    "NUM_CATS = 8\n",
    "NUM_IMGS = 9\n",
    "\n",
    "feats_mean = np.array([np.mean(feats[c*NUM_IMGS:((c+1)*NUM_IMGS)-1], axis=0) for c in range(NUM_CATS)])"
   ]
  },
  {
   "cell_type": "code",
   "execution_count": 25,
   "metadata": {},
   "outputs": [],
   "source": [
    "img_sims = cosine_similarity(feats_mean)"
   ]
  },
  {
   "cell_type": "code",
   "execution_count": 26,
   "metadata": {},
   "outputs": [
    {
     "data": {
      "text/plain": [
       "array([[0.99999994, 0.72129065, 0.74828994, 0.7112463 , 0.6963773 ,\n",
       "        0.73268056, 0.7028516 , 0.70743144],\n",
       "       [0.72129065, 0.9999998 , 0.8280212 , 0.828451  , 0.7770638 ,\n",
       "        0.81577206, 0.8138706 , 0.8407951 ],\n",
       "       [0.74828994, 0.8280212 , 1.0000001 , 0.9278395 , 0.7848074 ,\n",
       "        0.8789254 , 0.7716011 , 0.81575674],\n",
       "       [0.7112463 , 0.828451  , 0.9278395 , 1.0000001 , 0.79224056,\n",
       "        0.87045276, 0.8131415 , 0.848372  ],\n",
       "       [0.6963773 , 0.7770638 , 0.7848074 , 0.79224056, 0.9999996 ,\n",
       "        0.8426869 , 0.84862626, 0.81467444],\n",
       "       [0.73268056, 0.81577206, 0.8789254 , 0.87045276, 0.8426869 ,\n",
       "        1.0000006 , 0.82269806, 0.87957287],\n",
       "       [0.7028516 , 0.8138706 , 0.7716011 , 0.8131415 , 0.84862626,\n",
       "        0.82269806, 0.9999995 , 0.89862996],\n",
       "       [0.70743144, 0.8407951 , 0.81575674, 0.848372  , 0.81467444,\n",
       "        0.87957287, 0.89862996, 0.9999989 ]], dtype=float32)"
      ]
     },
     "execution_count": 26,
     "metadata": {},
     "output_type": "execute_result"
    }
   ],
   "source": [
    "img_sims"
   ]
  }
 ],
 "metadata": {
  "kernelspec": {
   "display_name": "cs330hw0",
   "language": "python",
   "name": "python3"
  },
  "language_info": {
   "codemirror_mode": {
    "name": "ipython",
    "version": 3
   },
   "file_extension": ".py",
   "mimetype": "text/x-python",
   "name": "python",
   "nbconvert_exporter": "python",
   "pygments_lexer": "ipython3",
   "version": "3.10.6"
  }
 },
 "nbformat": 4,
 "nbformat_minor": 2
}
