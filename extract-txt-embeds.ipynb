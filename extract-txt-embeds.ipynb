{
 "cells": [
  {
   "cell_type": "code",
   "execution_count": 1,
   "metadata": {},
   "outputs": [],
   "source": [
    "import os\n",
    "import numpy as np\n",
    "import pandas as pd\n",
    "\n",
    "from sklearn.metrics.pairwise import cosine_similarity\n",
    "from datasets import Dataset\n",
    "from torch.utils.data import DataLoader\n",
    "from transformers import CLIPProcessor, CLIPModel"
   ]
  },
  {
   "cell_type": "code",
   "execution_count": 2,
   "metadata": {},
   "outputs": [],
   "source": [
    "model = CLIPModel.from_pretrained(\"openai/clip-vit-base-patch32\")\n",
    "processor = CLIPProcessor.from_pretrained(\"openai/clip-vit-base-patch32\")"
   ]
  },
  {
   "cell_type": "code",
   "execution_count": 3,
   "metadata": {},
   "outputs": [],
   "source": [
    "SEM_MEN_ROOT = \"assets/sem-men/\"\n",
    "sem_men_manifest = pd.read_csv(SEM_MEN_ROOT + \"manifest.csv\")\n",
    "sem_men_ds = Dataset.from_pandas(sem_men_manifest)"
   ]
  },
  {
   "cell_type": "code",
   "execution_count": 4,
   "metadata": {},
   "outputs": [],
   "source": [
    "def collator(data):\n",
    "    return {k: [ex[k] for ex in data] for k in data[0]}"
   ]
  },
  {
   "cell_type": "code",
   "execution_count": 5,
   "metadata": {},
   "outputs": [],
   "source": [
    "sem_men_dl = DataLoader(sem_men_ds, batch_size=16, collate_fn=collator)"
   ]
  },
  {
   "cell_type": "code",
   "execution_count": 13,
   "metadata": {},
   "outputs": [],
   "source": [
    "def get_text_feats(dataloader, processor, model):\n",
    "    all_feats = []\n",
    "    for d in dataloader:\n",
    "        inputs = processor(text=d[\"text\"], return_tensors=\"pt\", padding=True)\n",
    "        feats = model.get_text_features(**inputs).detach().numpy()\n",
    "        all_feats.append(feats)\n",
    "    return np.concatenate(all_feats, axis=0)"
   ]
  },
  {
   "cell_type": "code",
   "execution_count": 14,
   "metadata": {},
   "outputs": [],
   "source": [
    "feats = get_text_feats(sem_men_dl, processor, model)"
   ]
  },
  {
   "cell_type": "code",
   "execution_count": 16,
   "metadata": {},
   "outputs": [],
   "source": [
    "txt_sims = cosine_similarity(feats)"
   ]
  },
  {
   "cell_type": "code",
   "execution_count": 18,
   "metadata": {},
   "outputs": [],
   "source": [
    "os.makedirs(\"evals/sem-men\", exist_ok=True)\n",
    "np.save(\"evals/sem-men/clip.npy\", txt_sims)"
   ]
  }
 ],
 "metadata": {
  "kernelspec": {
   "display_name": "cs330hw0",
   "language": "python",
   "name": "python3"
  },
  "language_info": {
   "codemirror_mode": {
    "name": "ipython",
    "version": 3
   },
   "file_extension": ".py",
   "mimetype": "text/x-python",
   "name": "python",
   "nbconvert_exporter": "python",
   "pygments_lexer": "ipython3",
   "version": "3.10.6"
  }
 },
 "nbformat": 4,
 "nbformat_minor": 2
}
